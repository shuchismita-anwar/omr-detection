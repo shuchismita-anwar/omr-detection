{
 "cells": [
  {
   "cell_type": "code",
   "execution_count": 1,
   "metadata": {},
   "outputs": [],
   "source": [
    "import cv2\n",
    "import numpy as np \n",
    "import imutils\n",
    "from imutils import contours"
   ]
  },
  {
   "cell_type": "code",
   "execution_count": 2,
   "metadata": {},
   "outputs": [],
   "source": [
    "def order_points(pts):\n",
    "\n",
    "\trect = np.zeros((4, 2), dtype = \"float32\")\n",
    "\n",
    "\ts = pts.sum(axis = 1)\n",
    "\trect[0] = pts[np.argmin(s)]\n",
    "\trect[2] = pts[np.argmax(s)]\n",
    "\n",
    "\tdiff = np.diff(pts, axis = 1)\n",
    "\trect[1] = pts[np.argmin(diff)]\n",
    "\trect[3] = pts[np.argmax(diff)]\n",
    "\treturn rect\n",
    "\n",
    "def four_point_transform(image, pts):\n",
    "\trect = order_points(pts)\n",
    "\t(tl, tr, br, bl) = rect\n",
    "\n",
    "\twidthA = np.sqrt(((br[0] - bl[0]) ** 2) + ((br[1] - bl[1]) ** 2))\n",
    "\twidthB = np.sqrt(((tr[0] - tl[0]) ** 2) + ((tr[1] - tl[1]) ** 2))\n",
    "\tmaxWidth = max(int(widthA), int(widthB))\n",
    "\n",
    "\theightA = np.sqrt(((tr[0] - br[0]) ** 2) + ((tr[1] - br[1]) ** 2))\n",
    "\theightB = np.sqrt(((tl[0] - bl[0]) ** 2) + ((tl[1] - bl[1]) ** 2))\n",
    "\tmaxHeight = max(int(heightA), int(heightB))\n",
    "\n",
    "\t\n",
    "\tdst = np.array([\n",
    "\t\t[0, 0],\n",
    "\t\t[maxWidth - 1, 0],\n",
    "\t\t[maxWidth - 1, maxHeight - 1],\n",
    "\t\t[0, maxHeight - 1]], dtype = \"float32\")\n",
    "\tM = cv2.getPerspectiveTransform(rect, dst)\n",
    "\twarped = cv2.warpPerspective(image, M, (maxWidth, maxHeight))\n",
    "\treturn warped\n"
   ]
  },
  {
   "cell_type": "code",
   "execution_count": 3,
   "metadata": {},
   "outputs": [
    {
     "name": "stdout",
     "output_type": "stream",
     "text": [
      "4\n"
     ]
    }
   ],
   "source": [
    "\n",
    "Answer_key= {0:1, 1:4, 2:0, 3:2, 4:0}\n",
    "\n",
    "image= cv2.imread(\"omr.png\")\n",
    "gray= cv2.cvtColor(image, cv2.COLOR_BGR2GRAY)\n",
    "blurred= cv2.GaussianBlur(gray, (5,5), 0)\n",
    "edged= cv2.Canny(blurred, 75, 200)\n",
    "cnts= cv2.findContours(edged, cv2.RETR_EXTERNAL, cv2.CHAIN_APPROX_SIMPLE)\n",
    "cnts= imutils.grab_contours(cnts)\n",
    "docCnt= None\n",
    "\n",
    "if len(cnts)>0:\n",
    "    cnts= sorted(cnts, key=cv2.contourArea, reverse=True)\n",
    "\n",
    "    for c in cnts:\n",
    "        peri= cv2.arcLength(c, True)\n",
    "        approx= cv2.approxPolyDP(c, 0.02*peri, True)\n",
    "\n",
    "        if(len(approx) == 4):\n",
    "            docCnt= approx\n",
    "            break\n",
    "\n",
    "paper= four_point_transform(image, docCnt.reshape(4, 2))  \n",
    "warped=  four_point_transform(gray, docCnt.reshape(4, 2))      \n",
    "thresh= cv2.threshold(warped, 0, 255, cv2.THRESH_BINARY_INV| cv2.THRESH_OTSU)[1]\n",
    "cnts= cv2.findContours(thresh, cv2.RETR_EXTERNAL, cv2.CHAIN_APPROX_SIMPLE)\n",
    "cnts= imutils.grab_contours(cnts)\n",
    "questionCnts=[]\n",
    "\n",
    "for c in cnts:\n",
    "    (x, y, w, h)= cv2.boundingRect(c)\n",
    "    ar= w/ float(h)\n",
    "    if w>=20 and h>=20 and ar >=0.9 and ar<= 1.1:\n",
    "        questionCnts.append(c)\n",
    "questionCnts= contours.sort_contours(questionCnts, method=\"top-to-botton\")[0]\n",
    "correct= 0 \n",
    "\n",
    "for (q, i) in enumerate(np.arange(0, len(questionCnts), 5)):\n",
    "    cnts= contours.sort_contours(questionCnts[i: i+5]) [0]\n",
    "    bubbled= None\n",
    "\n",
    "    for (j,c) in enumerate(cnts):\n",
    "        mask = np.zeros(thresh.shape, dtype=\"uint8\")\n",
    "        cv2.drawContours(mask, [c], -1, 255, -1)\n",
    "        mask= cv2.bitwise_and(thresh, thresh, mask=mask)\n",
    "        total= cv2.countNonZero(mask)\n",
    "\n",
    "        if bubbled is None or total >bubbled[0]:\n",
    "            bubbled= (total, j)\n",
    "        color= (0, 0, 255)\n",
    "        k= Answer_key[q]    \n",
    "        if k == bubbled[1]:\n",
    "            correct= correct+1\n",
    "\n",
    "print(correct)            "
   ]
  }
 ],
 "metadata": {
  "kernelspec": {
   "display_name": "omr",
   "language": "python",
   "name": "python3"
  },
  "language_info": {
   "codemirror_mode": {
    "name": "ipython",
    "version": 3
   },
   "file_extension": ".py",
   "mimetype": "text/x-python",
   "name": "python",
   "nbconvert_exporter": "python",
   "pygments_lexer": "ipython3",
   "version": "3.12.3"
  }
 },
 "nbformat": 4,
 "nbformat_minor": 2
}
